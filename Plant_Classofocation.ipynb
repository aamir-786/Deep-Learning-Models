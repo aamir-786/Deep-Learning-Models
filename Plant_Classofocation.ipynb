{
  "nbformat": 4,
  "nbformat_minor": 0,
  "metadata": {
    "colab": {
      "provenance": [],
      "gpuType": "T4"
    },
    "kernelspec": {
      "name": "python3",
      "display_name": "Python 3"
    },
    "language_info": {
      "name": "python"
    },
    "accelerator": "GPU"
  },
  "cells": [
    {
      "cell_type": "markdown",
      "source": [
        "# **🌿 Plant Leaf Classification (Subset of PlantVillage Dataset)**\n",
        "**CNN Model with Data Augmentation (under 15 epochs)**"
      ],
      "metadata": {
        "id": "LsnNObtDfgV8"
      }
    },
    {
      "cell_type": "code",
      "metadata": {
        "colab": {
          "base_uri": "https://localhost:8080/",
          "height": 284
        },
        "id": "ea607ed3",
        "outputId": "499efd1f-3a32-492d-91ec-c2c309864e8b"
      },
      "source": [
        "import os\n",
        "from google.colab import drive\n",
        "\n",
        "# Mount Google Drive (optional, if you want to save results)\n",
        "# drive.mount('/content/drive')\n",
        "\n",
        "# Create Kaggle directory\n",
        "os.makedirs(\"/root/.kaggle\", exist_ok=True)\n",
        "\n",
        "# === Upload kaggle.json file manually when prompted ===\n",
        "from google.colab import files\n",
        "print(\"Please upload your kaggle.json file:\")\n",
        "uploaded = files.upload()\n",
        "\n",
        "# Move it to Kaggle directory\n",
        "for file_name in uploaded.keys():\n",
        "    os.rename(file_name, \"/root/.kaggle/kaggle.json\")\n",
        "\n",
        "# Set proper permissions\n",
        "os.chmod(\"/root/.kaggle/kaggle.json\", 600)\n",
        "\n",
        "# Verify Kaggle API is working\n",
        "!kaggle datasets list -s plantvillage | head -n 10"
      ],
      "execution_count": 1,
      "outputs": [
        {
          "output_type": "stream",
          "name": "stdout",
          "text": [
            "Please upload your kaggle.json file:\n"
          ]
        },
        {
          "output_type": "display_data",
          "data": {
            "text/plain": [
              "<IPython.core.display.HTML object>"
            ],
            "text/html": [
              "\n",
              "     <input type=\"file\" id=\"files-799a8860-1f12-4e3f-9d37-1afc702014cd\" name=\"files[]\" multiple disabled\n",
              "        style=\"border:none\" />\n",
              "     <output id=\"result-799a8860-1f12-4e3f-9d37-1afc702014cd\">\n",
              "      Upload widget is only available when the cell has been executed in the\n",
              "      current browser session. Please rerun this cell to enable.\n",
              "      </output>\n",
              "      <script>// Copyright 2017 Google LLC\n",
              "//\n",
              "// Licensed under the Apache License, Version 2.0 (the \"License\");\n",
              "// you may not use this file except in compliance with the License.\n",
              "// You may obtain a copy of the License at\n",
              "//\n",
              "//      http://www.apache.org/licenses/LICENSE-2.0\n",
              "//\n",
              "// Unless required by applicable law or agreed to in writing, software\n",
              "// distributed under the License is distributed on an \"AS IS\" BASIS,\n",
              "// WITHOUT WARRANTIES OR CONDITIONS OF ANY KIND, either express or implied.\n",
              "// See the License for the specific language governing permissions and\n",
              "// limitations under the License.\n",
              "\n",
              "/**\n",
              " * @fileoverview Helpers for google.colab Python module.\n",
              " */\n",
              "(function(scope) {\n",
              "function span(text, styleAttributes = {}) {\n",
              "  const element = document.createElement('span');\n",
              "  element.textContent = text;\n",
              "  for (const key of Object.keys(styleAttributes)) {\n",
              "    element.style[key] = styleAttributes[key];\n",
              "  }\n",
              "  return element;\n",
              "}\n",
              "\n",
              "// Max number of bytes which will be uploaded at a time.\n",
              "const MAX_PAYLOAD_SIZE = 100 * 1024;\n",
              "\n",
              "function _uploadFiles(inputId, outputId) {\n",
              "  const steps = uploadFilesStep(inputId, outputId);\n",
              "  const outputElement = document.getElementById(outputId);\n",
              "  // Cache steps on the outputElement to make it available for the next call\n",
              "  // to uploadFilesContinue from Python.\n",
              "  outputElement.steps = steps;\n",
              "\n",
              "  return _uploadFilesContinue(outputId);\n",
              "}\n",
              "\n",
              "// This is roughly an async generator (not supported in the browser yet),\n",
              "// where there are multiple asynchronous steps and the Python side is going\n",
              "// to poll for completion of each step.\n",
              "// This uses a Promise to block the python side on completion of each step,\n",
              "// then passes the result of the previous step as the input to the next step.\n",
              "function _uploadFilesContinue(outputId) {\n",
              "  const outputElement = document.getElementById(outputId);\n",
              "  const steps = outputElement.steps;\n",
              "\n",
              "  const next = steps.next(outputElement.lastPromiseValue);\n",
              "  return Promise.resolve(next.value.promise).then((value) => {\n",
              "    // Cache the last promise value to make it available to the next\n",
              "    // step of the generator.\n",
              "    outputElement.lastPromiseValue = value;\n",
              "    return next.value.response;\n",
              "  });\n",
              "}\n",
              "\n",
              "/**\n",
              " * Generator function which is called between each async step of the upload\n",
              " * process.\n",
              " * @param {string} inputId Element ID of the input file picker element.\n",
              " * @param {string} outputId Element ID of the output display.\n",
              " * @return {!Iterable<!Object>} Iterable of next steps.\n",
              " */\n",
              "function* uploadFilesStep(inputId, outputId) {\n",
              "  const inputElement = document.getElementById(inputId);\n",
              "  inputElement.disabled = false;\n",
              "\n",
              "  const outputElement = document.getElementById(outputId);\n",
              "  outputElement.innerHTML = '';\n",
              "\n",
              "  const pickedPromise = new Promise((resolve) => {\n",
              "    inputElement.addEventListener('change', (e) => {\n",
              "      resolve(e.target.files);\n",
              "    });\n",
              "  });\n",
              "\n",
              "  const cancel = document.createElement('button');\n",
              "  inputElement.parentElement.appendChild(cancel);\n",
              "  cancel.textContent = 'Cancel upload';\n",
              "  const cancelPromise = new Promise((resolve) => {\n",
              "    cancel.onclick = () => {\n",
              "      resolve(null);\n",
              "    };\n",
              "  });\n",
              "\n",
              "  // Wait for the user to pick the files.\n",
              "  const files = yield {\n",
              "    promise: Promise.race([pickedPromise, cancelPromise]),\n",
              "    response: {\n",
              "      action: 'starting',\n",
              "    }\n",
              "  };\n",
              "\n",
              "  cancel.remove();\n",
              "\n",
              "  // Disable the input element since further picks are not allowed.\n",
              "  inputElement.disabled = true;\n",
              "\n",
              "  if (!files) {\n",
              "    return {\n",
              "      response: {\n",
              "        action: 'complete',\n",
              "      }\n",
              "    };\n",
              "  }\n",
              "\n",
              "  for (const file of files) {\n",
              "    const li = document.createElement('li');\n",
              "    li.append(span(file.name, {fontWeight: 'bold'}));\n",
              "    li.append(span(\n",
              "        `(${file.type || 'n/a'}) - ${file.size} bytes, ` +\n",
              "        `last modified: ${\n",
              "            file.lastModifiedDate ? file.lastModifiedDate.toLocaleDateString() :\n",
              "                                    'n/a'} - `));\n",
              "    const percent = span('0% done');\n",
              "    li.appendChild(percent);\n",
              "\n",
              "    outputElement.appendChild(li);\n",
              "\n",
              "    const fileDataPromise = new Promise((resolve) => {\n",
              "      const reader = new FileReader();\n",
              "      reader.onload = (e) => {\n",
              "        resolve(e.target.result);\n",
              "      };\n",
              "      reader.readAsArrayBuffer(file);\n",
              "    });\n",
              "    // Wait for the data to be ready.\n",
              "    let fileData = yield {\n",
              "      promise: fileDataPromise,\n",
              "      response: {\n",
              "        action: 'continue',\n",
              "      }\n",
              "    };\n",
              "\n",
              "    // Use a chunked sending to avoid message size limits. See b/62115660.\n",
              "    let position = 0;\n",
              "    do {\n",
              "      const length = Math.min(fileData.byteLength - position, MAX_PAYLOAD_SIZE);\n",
              "      const chunk = new Uint8Array(fileData, position, length);\n",
              "      position += length;\n",
              "\n",
              "      const base64 = btoa(String.fromCharCode.apply(null, chunk));\n",
              "      yield {\n",
              "        response: {\n",
              "          action: 'append',\n",
              "          file: file.name,\n",
              "          data: base64,\n",
              "        },\n",
              "      };\n",
              "\n",
              "      let percentDone = fileData.byteLength === 0 ?\n",
              "          100 :\n",
              "          Math.round((position / fileData.byteLength) * 100);\n",
              "      percent.textContent = `${percentDone}% done`;\n",
              "\n",
              "    } while (position < fileData.byteLength);\n",
              "  }\n",
              "\n",
              "  // All done.\n",
              "  yield {\n",
              "    response: {\n",
              "      action: 'complete',\n",
              "    }\n",
              "  };\n",
              "}\n",
              "\n",
              "scope.google = scope.google || {};\n",
              "scope.google.colab = scope.google.colab || {};\n",
              "scope.google.colab._files = {\n",
              "  _uploadFiles,\n",
              "  _uploadFilesContinue,\n",
              "};\n",
              "})(self);\n",
              "</script> "
            ]
          },
          "metadata": {}
        },
        {
          "output_type": "stream",
          "name": "stdout",
          "text": [
            "Saving kaggle.json to kaggle.json\n",
            "ref                                                       title                                              size  lastUpdated                 downloadCount  voteCount  usabilityRating  \n",
            "--------------------------------------------------------  -------------------------------------------  ----------  --------------------------  -------------  ---------  ---------------  \n",
            "abdallahalidev/plantvillage-dataset                       PlantVillage Dataset                         4371949460  2019-09-01 11:52:26.883000          86256        782  0.875            \n",
            "emmarex/plantdisease                                      PlantVillage Dataset                          689512690  2018-10-30 01:16:23.440000         124698        949  0.5625           \n",
            "mohitsingh1804/plantvillage                               PlantVillage                                  857351099  2021-08-20 01:08:58.493000           8494         55  0.625            \n",
            "soumiknafiul/plantvillage-dataset-labeled                 PlantVillage Dataset (Labeled)                916638156  2020-06-01 18:06:27.453000           1497         41  0.875            \n",
            "moazeldsokyx/plantvillage                                 PlantVillage                                  344545657  2023-08-09 19:52:28.153000           1185         12  0.625            \n",
            "sebastianpalaciob/plantvillage-for-object-detection-yolo  PlantVillage for object detection YOLO        869084339  2024-07-10 02:41:59.280000           1927         38  1.0              \n",
            "charuchaudhry/plantvillage-tomato-leaf-dataset            plantvillage Tomato leaf dataset              464944524  2019-03-21 20:48:27.057000           3684         49  0.3125           \n",
            "aarishasifkhan/plantvillage-potato-disease-dataset        Potato Disease Data | PlantVillage             39683614  2024-04-25 08:04:52.190000           1665         18  0.75             \n"
          ]
        }
      ]
    },
    {
      "cell_type": "markdown",
      "metadata": {
        "id": "997de580"
      },
      "source": [
        "### SECTION 1: Setup & Kaggle API Configuration\n",
        "\n",
        "This section handles the initial setup, including importing necessary libraries and configuring the Kaggle API for use within Google Colab."
      ]
    },
    {
      "cell_type": "markdown",
      "metadata": {
        "id": "4063f270"
      },
      "source": [
        "#### Import Libraries\n",
        "\n",
        "*   **`import os`**: Imports the `os` module, which provides a way of using operating system dependent functionality, like creating directories or managing file paths.\n",
        "*   **`from google.colab import drive`**: Imports the `drive` module from `google.colab`, allowing you to mount your Google Drive to access or store files.\n",
        "*   **`from google.colab import files`**: Imports the `files` module from `google.colab`, which provides utilities for uploading and downloading files to/from the Colab environment."
      ]
    },
    {
      "cell_type": "markdown",
      "metadata": {
        "id": "b89c679f"
      },
      "source": [
        "#### Mount Google Drive (Optional)\n",
        "\n",
        "*   **`# drive.mount('/content/drive')`**: This line is commented out, but if uncommented, it would mount your Google Drive. This is useful if you want to save results or load data directly from your Drive. You would be prompted to authorize access."
      ]
    },
    {
      "cell_type": "markdown",
      "metadata": {
        "id": "59cf02a6"
      },
      "source": [
        "#### Configure Kaggle API\n",
        "\n",
        "To interact with Kaggle datasets and competitions, you need to set up your Kaggle API credentials. This involves placing your `kaggle.json` file in the correct directory with appropriate permissions."
      ]
    },
    {
      "cell_type": "markdown",
      "metadata": {
        "id": "b0ce5f67"
      },
      "source": [
        "##### Create Kaggle Directory\n",
        "\n",
        "*   **`os.makedirs(\"/root/.kaggle\", exist_ok=True)`**: This command creates a directory named `.kaggle` inside the `/root` directory. The `.kaggle` directory is where Kaggle expects to find your API credentials. `exist_ok=True` prevents an error if the directory already exists."
      ]
    },
    {
      "cell_type": "markdown",
      "metadata": {
        "id": "a9646bf4"
      },
      "source": [
        "##### Upload `kaggle.json`\n",
        "\n",
        "*   **`print(\"Please upload your kaggle.json file:\")`**: Displays a message to the user.\n",
        "*   **`uploaded = files.upload()`**: This command opens a file upload widget in Colab, prompting you to manually select and upload your `kaggle.json` file. This file contains your Kaggle API key and username. You can obtain it from your Kaggle account settings (under the 'API' section, click 'Create New API Token')."
      ]
    },
    {
      "cell_type": "markdown",
      "metadata": {
        "id": "996e7c9a"
      },
      "source": [
        "##### Move and Set Permissions\n",
        "\n",
        "*   **`for file_name in uploaded.keys(): os.rename(file_name, \"/root/.kaggle/kaggle.json\")`**: After uploading, the `kaggle.json` file is moved from its temporary location to the newly created `/root/.kaggle/` directory and renamed to `kaggle.json` (if it wasn't already).\n",
        "*   **`os.chmod(\"/root/.kaggle/kaggle.json\", 600)`**: This command sets the file permissions for `kaggle.json` to `600`. This means only the owner (you) can read and write to the file, which is crucial for security as it contains sensitive API credentials."
      ]
    },
    {
      "cell_type": "markdown",
      "metadata": {
        "id": "1f28170e"
      },
      "source": [
        "##### Verify Kaggle API\n",
        "\n",
        "*   **`!kaggle datasets list -s plantvillage | head -n 10`**: This is a shell command executed within Colab (indicated by the `!`).\n",
        "    *   **`kaggle datasets list -s plantvillage`**: This uses the Kaggle CLI (Command Line Interface) to list datasets. The `-s plantvillage` flag searches for datasets containing the term \"plantvillage\".\n",
        "    *   **`| head -n 10`**: This pipes the output of the previous command to `head -n 10`, which displays only the first 10 lines of the results. This is a quick way to verify that your Kaggle API is correctly configured and can communicate with Kaggle's servers."
      ]
    },
    {
      "cell_type": "code",
      "source": [
        "# ====================================================\n",
        "# SECTION 2: Download & Extract the Dataset\n",
        "# ====================================================\n",
        "\n",
        "# Download PlantVillage dataset from Kaggle\n",
        "!kaggle datasets download -d emmarex/plantdisease\n",
        "\n",
        "# Unzip dataset\n",
        "!unzip -q plantdisease.zip -d /content/plantvillage\n",
        "\n",
        "# Check directory structure\n",
        "!ls /content/plantvillage\n"
      ],
      "metadata": {
        "colab": {
          "base_uri": "https://localhost:8080/"
        },
        "id": "a6-p3YZyeKMq",
        "outputId": "7da99c55-bdb1-4a3a-a177-cd30d994aa6e"
      },
      "execution_count": 2,
      "outputs": [
        {
          "output_type": "stream",
          "name": "stdout",
          "text": [
            "Dataset URL: https://www.kaggle.com/datasets/emmarex/plantdisease\n",
            "License(s): unknown\n",
            "Downloading plantdisease.zip to /content\n",
            " 98% 646M/658M [00:01<00:00, 279MB/s]\n",
            "100% 658M/658M [00:01<00:00, 382MB/s]\n",
            "plantvillage  PlantVillage\n"
          ]
        }
      ]
    },
    {
      "cell_type": "markdown",
      "source": [
        "**Description:**\n",
        "\n",
        "This downloads the PlantVillage dataset and extracts it into the working directory.\n",
        "We’ll later select only a few classes (3–5) to keep it light."
      ],
      "metadata": {
        "id": "qpCy1pQgeQhV"
      }
    },
    {
      "cell_type": "code",
      "source": [
        "# ====================================================\n",
        "# SECTION 3: Prepare Dataset (Subset Selection)\n",
        "# ====================================================\n",
        "\n",
        "import shutil\n",
        "import os\n",
        "import random\n",
        "\n",
        "# Define source and destination directories\n",
        "source_dir = \"/content/plantvillage/PlantVillage\"\n",
        "subset_dir = \"/content/plantvillage_subset\"\n",
        "\n",
        "os.makedirs(subset_dir, exist_ok=True)\n",
        "\n",
        "# Choose 4 random classes\n",
        "all_classes = os.listdir(source_dir)\n",
        "selected_classes = random.sample(all_classes, 4)\n",
        "print(\"Selected classes:\", selected_classes)\n",
        "\n",
        "# Copy few classes to subset folder\n",
        "for cls in selected_classes:\n",
        "    shutil.copytree(os.path.join(source_dir, cls), os.path.join(subset_dir, cls))\n",
        "\n",
        "# Verify\n",
        "for cls in selected_classes:\n",
        "    print(f\"{cls}: {len(os.listdir(os.path.join(subset_dir, cls)))} images\")\n"
      ],
      "metadata": {
        "colab": {
          "base_uri": "https://localhost:8080/"
        },
        "id": "mR2hd7WzeUGW",
        "outputId": "133c7f68-103e-4a34-9e4b-9b4776dd4d85"
      },
      "execution_count": 3,
      "outputs": [
        {
          "output_type": "stream",
          "name": "stdout",
          "text": [
            "Selected classes: ['Tomato__Tomato_mosaic_virus', 'Pepper__bell___Bacterial_spot', 'Tomato_Bacterial_spot', 'Tomato__Tomato_YellowLeaf__Curl_Virus']\n",
            "Tomato__Tomato_mosaic_virus: 373 images\n",
            "Pepper__bell___Bacterial_spot: 997 images\n",
            "Tomato_Bacterial_spot: 2127 images\n",
            "Tomato__Tomato_YellowLeaf__Curl_Virus: 3209 images\n"
          ]
        }
      ]
    },
    {
      "cell_type": "markdown",
      "source": [
        "**Description:**\n",
        "\n",
        "**This code:**\n",
        "\n",
        "Randomly selects 4 plant classes from the dataset.\n",
        "\n",
        "Copies them into a smaller folder plantvillage_subset for faster training."
      ],
      "metadata": {
        "id": "BGSCEOS4ecEl"
      }
    },
    {
      "cell_type": "code",
      "source": [
        "# ====================================================\n",
        "# SECTION 4: Data Loading & Augmentation\n",
        "# ====================================================\n",
        "\n",
        "from tensorflow.keras.preprocessing.image import ImageDataGenerator\n",
        "\n",
        "# Image size & batch setup\n",
        "img_size = (128, 128)\n",
        "batch_size = 32\n",
        "\n",
        "# Data augmentation for training\n",
        "train_datagen = ImageDataGenerator(\n",
        "    rescale=1./255,\n",
        "    rotation_range=40,\n",
        "    width_shift_range=0.3,\n",
        "    height_shift_range=0.3,\n",
        "    shear_range=0.3,\n",
        "    zoom_range=0.3,\n",
        "    horizontal_flip=True,\n",
        "    vertical_flip=True,   # Add vertical flip\n",
        "    fill_mode='nearest',\n",
        "    validation_split=0.2\n",
        ")\n",
        "\n",
        "\n",
        "# Create training & validation sets\n",
        "train_generator = train_datagen.flow_from_directory(\n",
        "    subset_dir,\n",
        "    target_size=img_size,\n",
        "    batch_size=batch_size,\n",
        "    class_mode='categorical',\n",
        "    subset='training'\n",
        ")\n",
        "\n",
        "val_generator = train_datagen.flow_from_directory(\n",
        "    subset_dir,\n",
        "    target_size=img_size,\n",
        "    batch_size=batch_size,\n",
        "    class_mode='categorical',\n",
        "    subset='validation'\n",
        ")\n"
      ],
      "metadata": {
        "colab": {
          "base_uri": "https://localhost:8080/"
        },
        "id": "_H3pcC0IehYn",
        "outputId": "16533156-df04-4da2-d483-74a31fc9895a"
      },
      "execution_count": 9,
      "outputs": [
        {
          "output_type": "stream",
          "name": "stdout",
          "text": [
            "Found 5366 images belonging to 4 classes.\n",
            "Found 1339 images belonging to 4 classes.\n"
          ]
        }
      ]
    },
    {
      "cell_type": "markdown",
      "source": [
        "**Description:**\n",
        "\n",
        "This uses Keras ImageDataGenerator to:\n",
        "\n",
        "Load images.\n",
        "\n",
        "Apply augmentation (rotation, zoom, shift, etc.).\n",
        "\n",
        "Split data into training (80%) and validation (20%"
      ],
      "metadata": {
        "id": "HkyAmRSrenSE"
      }
    },
    {
      "cell_type": "code",
      "source": [
        "# ====================================================\n",
        "# SECTION 5: Build CNN Model\n",
        "# ====================================================\n",
        "\n",
        "from tensorflow.keras.models import Sequential\n",
        "from tensorflow.keras.layers import Conv2D, MaxPooling2D, Flatten, Dense, Dropout\n",
        "\n",
        "from tensorflow.keras.layers import Dropout\n",
        "\n",
        "model = Sequential([\n",
        "    Conv2D(32, (3,3), activation='relu', input_shape=(128,128,3)),\n",
        "    MaxPooling2D(2,2),\n",
        "    Dropout(0.25),  # Added\n",
        "\n",
        "    Conv2D(64, (3,3), activation='relu'),\n",
        "    MaxPooling2D(2,2),\n",
        "    Dropout(0.3),  # Added\n",
        "\n",
        "    Flatten(),\n",
        "    Dense(128, activation='relu'),\n",
        "    Dropout(0.5),\n",
        "    Dense(train_generator.num_classes, activation='softmax')\n",
        "])\n",
        "\n",
        "\n",
        "model.compile(optimizer='adam', loss='categorical_crossentropy', metrics=['accuracy'])\n",
        "model.summary()\n"
      ],
      "metadata": {
        "colab": {
          "base_uri": "https://localhost:8080/",
          "height": 449
        },
        "id": "G5nfVdnuepHS",
        "outputId": "b5269495-ba3f-44c6-ddcd-43e1ed0022b4"
      },
      "execution_count": 10,
      "outputs": [
        {
          "output_type": "display_data",
          "data": {
            "text/plain": [
              "\u001b[1mModel: \"sequential_1\"\u001b[0m\n"
            ],
            "text/html": [
              "<pre style=\"white-space:pre;overflow-x:auto;line-height:normal;font-family:Menlo,'DejaVu Sans Mono',consolas,'Courier New',monospace\"><span style=\"font-weight: bold\">Model: \"sequential_1\"</span>\n",
              "</pre>\n"
            ]
          },
          "metadata": {}
        },
        {
          "output_type": "display_data",
          "data": {
            "text/plain": [
              "┏━━━━━━━━━━━━━━━━━━━━━━━━━━━━━━━━━┳━━━━━━━━━━━━━━━━━━━━━━━━┳━━━━━━━━━━━━━━━┓\n",
              "┃\u001b[1m \u001b[0m\u001b[1mLayer (type)                   \u001b[0m\u001b[1m \u001b[0m┃\u001b[1m \u001b[0m\u001b[1mOutput Shape          \u001b[0m\u001b[1m \u001b[0m┃\u001b[1m \u001b[0m\u001b[1m      Param #\u001b[0m\u001b[1m \u001b[0m┃\n",
              "┡━━━━━━━━━━━━━━━━━━━━━━━━━━━━━━━━━╇━━━━━━━━━━━━━━━━━━━━━━━━╇━━━━━━━━━━━━━━━┩\n",
              "│ conv2d_3 (\u001b[38;5;33mConv2D\u001b[0m)               │ (\u001b[38;5;45mNone\u001b[0m, \u001b[38;5;34m126\u001b[0m, \u001b[38;5;34m126\u001b[0m, \u001b[38;5;34m32\u001b[0m)   │           \u001b[38;5;34m896\u001b[0m │\n",
              "├─────────────────────────────────┼────────────────────────┼───────────────┤\n",
              "│ max_pooling2d_3 (\u001b[38;5;33mMaxPooling2D\u001b[0m)  │ (\u001b[38;5;45mNone\u001b[0m, \u001b[38;5;34m63\u001b[0m, \u001b[38;5;34m63\u001b[0m, \u001b[38;5;34m32\u001b[0m)     │             \u001b[38;5;34m0\u001b[0m │\n",
              "├─────────────────────────────────┼────────────────────────┼───────────────┤\n",
              "│ dropout_1 (\u001b[38;5;33mDropout\u001b[0m)             │ (\u001b[38;5;45mNone\u001b[0m, \u001b[38;5;34m63\u001b[0m, \u001b[38;5;34m63\u001b[0m, \u001b[38;5;34m32\u001b[0m)     │             \u001b[38;5;34m0\u001b[0m │\n",
              "├─────────────────────────────────┼────────────────────────┼───────────────┤\n",
              "│ conv2d_4 (\u001b[38;5;33mConv2D\u001b[0m)               │ (\u001b[38;5;45mNone\u001b[0m, \u001b[38;5;34m61\u001b[0m, \u001b[38;5;34m61\u001b[0m, \u001b[38;5;34m64\u001b[0m)     │        \u001b[38;5;34m18,496\u001b[0m │\n",
              "├─────────────────────────────────┼────────────────────────┼───────────────┤\n",
              "│ max_pooling2d_4 (\u001b[38;5;33mMaxPooling2D\u001b[0m)  │ (\u001b[38;5;45mNone\u001b[0m, \u001b[38;5;34m30\u001b[0m, \u001b[38;5;34m30\u001b[0m, \u001b[38;5;34m64\u001b[0m)     │             \u001b[38;5;34m0\u001b[0m │\n",
              "├─────────────────────────────────┼────────────────────────┼───────────────┤\n",
              "│ dropout_2 (\u001b[38;5;33mDropout\u001b[0m)             │ (\u001b[38;5;45mNone\u001b[0m, \u001b[38;5;34m30\u001b[0m, \u001b[38;5;34m30\u001b[0m, \u001b[38;5;34m64\u001b[0m)     │             \u001b[38;5;34m0\u001b[0m │\n",
              "├─────────────────────────────────┼────────────────────────┼───────────────┤\n",
              "│ flatten_1 (\u001b[38;5;33mFlatten\u001b[0m)             │ (\u001b[38;5;45mNone\u001b[0m, \u001b[38;5;34m57600\u001b[0m)          │             \u001b[38;5;34m0\u001b[0m │\n",
              "├─────────────────────────────────┼────────────────────────┼───────────────┤\n",
              "│ dense_2 (\u001b[38;5;33mDense\u001b[0m)                 │ (\u001b[38;5;45mNone\u001b[0m, \u001b[38;5;34m128\u001b[0m)            │     \u001b[38;5;34m7,372,928\u001b[0m │\n",
              "├─────────────────────────────────┼────────────────────────┼───────────────┤\n",
              "│ dropout_3 (\u001b[38;5;33mDropout\u001b[0m)             │ (\u001b[38;5;45mNone\u001b[0m, \u001b[38;5;34m128\u001b[0m)            │             \u001b[38;5;34m0\u001b[0m │\n",
              "├─────────────────────────────────┼────────────────────────┼───────────────┤\n",
              "│ dense_3 (\u001b[38;5;33mDense\u001b[0m)                 │ (\u001b[38;5;45mNone\u001b[0m, \u001b[38;5;34m4\u001b[0m)              │           \u001b[38;5;34m516\u001b[0m │\n",
              "└─────────────────────────────────┴────────────────────────┴───────────────┘\n"
            ],
            "text/html": [
              "<pre style=\"white-space:pre;overflow-x:auto;line-height:normal;font-family:Menlo,'DejaVu Sans Mono',consolas,'Courier New',monospace\">┏━━━━━━━━━━━━━━━━━━━━━━━━━━━━━━━━━┳━━━━━━━━━━━━━━━━━━━━━━━━┳━━━━━━━━━━━━━━━┓\n",
              "┃<span style=\"font-weight: bold\"> Layer (type)                    </span>┃<span style=\"font-weight: bold\"> Output Shape           </span>┃<span style=\"font-weight: bold\">       Param # </span>┃\n",
              "┡━━━━━━━━━━━━━━━━━━━━━━━━━━━━━━━━━╇━━━━━━━━━━━━━━━━━━━━━━━━╇━━━━━━━━━━━━━━━┩\n",
              "│ conv2d_3 (<span style=\"color: #0087ff; text-decoration-color: #0087ff\">Conv2D</span>)               │ (<span style=\"color: #00d7ff; text-decoration-color: #00d7ff\">None</span>, <span style=\"color: #00af00; text-decoration-color: #00af00\">126</span>, <span style=\"color: #00af00; text-decoration-color: #00af00\">126</span>, <span style=\"color: #00af00; text-decoration-color: #00af00\">32</span>)   │           <span style=\"color: #00af00; text-decoration-color: #00af00\">896</span> │\n",
              "├─────────────────────────────────┼────────────────────────┼───────────────┤\n",
              "│ max_pooling2d_3 (<span style=\"color: #0087ff; text-decoration-color: #0087ff\">MaxPooling2D</span>)  │ (<span style=\"color: #00d7ff; text-decoration-color: #00d7ff\">None</span>, <span style=\"color: #00af00; text-decoration-color: #00af00\">63</span>, <span style=\"color: #00af00; text-decoration-color: #00af00\">63</span>, <span style=\"color: #00af00; text-decoration-color: #00af00\">32</span>)     │             <span style=\"color: #00af00; text-decoration-color: #00af00\">0</span> │\n",
              "├─────────────────────────────────┼────────────────────────┼───────────────┤\n",
              "│ dropout_1 (<span style=\"color: #0087ff; text-decoration-color: #0087ff\">Dropout</span>)             │ (<span style=\"color: #00d7ff; text-decoration-color: #00d7ff\">None</span>, <span style=\"color: #00af00; text-decoration-color: #00af00\">63</span>, <span style=\"color: #00af00; text-decoration-color: #00af00\">63</span>, <span style=\"color: #00af00; text-decoration-color: #00af00\">32</span>)     │             <span style=\"color: #00af00; text-decoration-color: #00af00\">0</span> │\n",
              "├─────────────────────────────────┼────────────────────────┼───────────────┤\n",
              "│ conv2d_4 (<span style=\"color: #0087ff; text-decoration-color: #0087ff\">Conv2D</span>)               │ (<span style=\"color: #00d7ff; text-decoration-color: #00d7ff\">None</span>, <span style=\"color: #00af00; text-decoration-color: #00af00\">61</span>, <span style=\"color: #00af00; text-decoration-color: #00af00\">61</span>, <span style=\"color: #00af00; text-decoration-color: #00af00\">64</span>)     │        <span style=\"color: #00af00; text-decoration-color: #00af00\">18,496</span> │\n",
              "├─────────────────────────────────┼────────────────────────┼───────────────┤\n",
              "│ max_pooling2d_4 (<span style=\"color: #0087ff; text-decoration-color: #0087ff\">MaxPooling2D</span>)  │ (<span style=\"color: #00d7ff; text-decoration-color: #00d7ff\">None</span>, <span style=\"color: #00af00; text-decoration-color: #00af00\">30</span>, <span style=\"color: #00af00; text-decoration-color: #00af00\">30</span>, <span style=\"color: #00af00; text-decoration-color: #00af00\">64</span>)     │             <span style=\"color: #00af00; text-decoration-color: #00af00\">0</span> │\n",
              "├─────────────────────────────────┼────────────────────────┼───────────────┤\n",
              "│ dropout_2 (<span style=\"color: #0087ff; text-decoration-color: #0087ff\">Dropout</span>)             │ (<span style=\"color: #00d7ff; text-decoration-color: #00d7ff\">None</span>, <span style=\"color: #00af00; text-decoration-color: #00af00\">30</span>, <span style=\"color: #00af00; text-decoration-color: #00af00\">30</span>, <span style=\"color: #00af00; text-decoration-color: #00af00\">64</span>)     │             <span style=\"color: #00af00; text-decoration-color: #00af00\">0</span> │\n",
              "├─────────────────────────────────┼────────────────────────┼───────────────┤\n",
              "│ flatten_1 (<span style=\"color: #0087ff; text-decoration-color: #0087ff\">Flatten</span>)             │ (<span style=\"color: #00d7ff; text-decoration-color: #00d7ff\">None</span>, <span style=\"color: #00af00; text-decoration-color: #00af00\">57600</span>)          │             <span style=\"color: #00af00; text-decoration-color: #00af00\">0</span> │\n",
              "├─────────────────────────────────┼────────────────────────┼───────────────┤\n",
              "│ dense_2 (<span style=\"color: #0087ff; text-decoration-color: #0087ff\">Dense</span>)                 │ (<span style=\"color: #00d7ff; text-decoration-color: #00d7ff\">None</span>, <span style=\"color: #00af00; text-decoration-color: #00af00\">128</span>)            │     <span style=\"color: #00af00; text-decoration-color: #00af00\">7,372,928</span> │\n",
              "├─────────────────────────────────┼────────────────────────┼───────────────┤\n",
              "│ dropout_3 (<span style=\"color: #0087ff; text-decoration-color: #0087ff\">Dropout</span>)             │ (<span style=\"color: #00d7ff; text-decoration-color: #00d7ff\">None</span>, <span style=\"color: #00af00; text-decoration-color: #00af00\">128</span>)            │             <span style=\"color: #00af00; text-decoration-color: #00af00\">0</span> │\n",
              "├─────────────────────────────────┼────────────────────────┼───────────────┤\n",
              "│ dense_3 (<span style=\"color: #0087ff; text-decoration-color: #0087ff\">Dense</span>)                 │ (<span style=\"color: #00d7ff; text-decoration-color: #00d7ff\">None</span>, <span style=\"color: #00af00; text-decoration-color: #00af00\">4</span>)              │           <span style=\"color: #00af00; text-decoration-color: #00af00\">516</span> │\n",
              "└─────────────────────────────────┴────────────────────────┴───────────────┘\n",
              "</pre>\n"
            ]
          },
          "metadata": {}
        },
        {
          "output_type": "display_data",
          "data": {
            "text/plain": [
              "\u001b[1m Total params: \u001b[0m\u001b[38;5;34m7,392,836\u001b[0m (28.20 MB)\n"
            ],
            "text/html": [
              "<pre style=\"white-space:pre;overflow-x:auto;line-height:normal;font-family:Menlo,'DejaVu Sans Mono',consolas,'Courier New',monospace\"><span style=\"font-weight: bold\"> Total params: </span><span style=\"color: #00af00; text-decoration-color: #00af00\">7,392,836</span> (28.20 MB)\n",
              "</pre>\n"
            ]
          },
          "metadata": {}
        },
        {
          "output_type": "display_data",
          "data": {
            "text/plain": [
              "\u001b[1m Trainable params: \u001b[0m\u001b[38;5;34m7,392,836\u001b[0m (28.20 MB)\n"
            ],
            "text/html": [
              "<pre style=\"white-space:pre;overflow-x:auto;line-height:normal;font-family:Menlo,'DejaVu Sans Mono',consolas,'Courier New',monospace\"><span style=\"font-weight: bold\"> Trainable params: </span><span style=\"color: #00af00; text-decoration-color: #00af00\">7,392,836</span> (28.20 MB)\n",
              "</pre>\n"
            ]
          },
          "metadata": {}
        },
        {
          "output_type": "display_data",
          "data": {
            "text/plain": [
              "\u001b[1m Non-trainable params: \u001b[0m\u001b[38;5;34m0\u001b[0m (0.00 B)\n"
            ],
            "text/html": [
              "<pre style=\"white-space:pre;overflow-x:auto;line-height:normal;font-family:Menlo,'DejaVu Sans Mono',consolas,'Courier New',monospace\"><span style=\"font-weight: bold\"> Non-trainable params: </span><span style=\"color: #00af00; text-decoration-color: #00af00\">0</span> (0.00 B)\n",
              "</pre>\n"
            ]
          },
          "metadata": {}
        }
      ]
    },
    {
      "cell_type": "markdown",
      "source": [
        "**Description:**\n",
        "A simple Convolutional Neural Network (CNN) with:\n",
        "\n",
        "3 convolutional blocks\n",
        "\n",
        "Dropout for regularization\n",
        "\n",
        "Softmax output for classification across selected classes"
      ],
      "metadata": {
        "id": "zbaVXfpEevaI"
      }
    },
    {
      "cell_type": "code",
      "source": [
        "from tensorflow.keras.callbacks import EarlyStopping\n",
        "\n",
        "early_stop = EarlyStopping(monitor='val_loss', patience=3, restore_best_weights=True)\n",
        "\n",
        "history = model.fit(\n",
        "    train_generator,\n",
        "    validation_data=val_generator,\n",
        "    epochs=20,\n",
        "    callbacks=[early_stop]\n",
        ")\n"
      ],
      "metadata": {
        "colab": {
          "base_uri": "https://localhost:8080/"
        },
        "id": "ABGcZuCoevts",
        "outputId": "399e9294-213d-4bed-e8cc-db4bd5a1e949"
      },
      "execution_count": 12,
      "outputs": [
        {
          "output_type": "stream",
          "name": "stdout",
          "text": [
            "Epoch 1/20\n",
            "\u001b[1m168/168\u001b[0m \u001b[32m━━━━━━━━━━━━━━━━━━━━\u001b[0m\u001b[37m\u001b[0m \u001b[1m38s\u001b[0m 225ms/step - accuracy: 0.7120 - loss: 0.7355 - val_accuracy: 0.8081 - val_loss: 0.5254\n",
            "Epoch 2/20\n",
            "\u001b[1m168/168\u001b[0m \u001b[32m━━━━━━━━━━━━━━━━━━━━\u001b[0m\u001b[37m\u001b[0m \u001b[1m33s\u001b[0m 194ms/step - accuracy: 0.8097 - loss: 0.5017 - val_accuracy: 0.8588 - val_loss: 0.3796\n",
            "Epoch 3/20\n",
            "\u001b[1m168/168\u001b[0m \u001b[32m━━━━━━━━━━━━━━━━━━━━\u001b[0m\u001b[37m\u001b[0m \u001b[1m33s\u001b[0m 198ms/step - accuracy: 0.8398 - loss: 0.4297 - val_accuracy: 0.8872 - val_loss: 0.3099\n",
            "Epoch 4/20\n",
            "\u001b[1m168/168\u001b[0m \u001b[32m━━━━━━━━━━━━━━━━━━━━\u001b[0m\u001b[37m\u001b[0m \u001b[1m32s\u001b[0m 190ms/step - accuracy: 0.8636 - loss: 0.3542 - val_accuracy: 0.8910 - val_loss: 0.2852\n",
            "Epoch 5/20\n",
            "\u001b[1m168/168\u001b[0m \u001b[32m━━━━━━━━━━━━━━━━━━━━\u001b[0m\u001b[37m\u001b[0m \u001b[1m33s\u001b[0m 194ms/step - accuracy: 0.8773 - loss: 0.3393 - val_accuracy: 0.9126 - val_loss: 0.2342\n",
            "Epoch 6/20\n",
            "\u001b[1m168/168\u001b[0m \u001b[32m━━━━━━━━━━━━━━━━━━━━\u001b[0m\u001b[37m\u001b[0m \u001b[1m33s\u001b[0m 196ms/step - accuracy: 0.8792 - loss: 0.3258 - val_accuracy: 0.9126 - val_loss: 0.2704\n",
            "Epoch 7/20\n",
            "\u001b[1m168/168\u001b[0m \u001b[32m━━━━━━━━━━━━━━━━━━━━\u001b[0m\u001b[37m\u001b[0m \u001b[1m32s\u001b[0m 193ms/step - accuracy: 0.8907 - loss: 0.2955 - val_accuracy: 0.8925 - val_loss: 0.2626\n",
            "Epoch 8/20\n",
            "\u001b[1m168/168\u001b[0m \u001b[32m━━━━━━━━━━━━━━━━━━━━\u001b[0m\u001b[37m\u001b[0m \u001b[1m42s\u001b[0m 197ms/step - accuracy: 0.9083 - loss: 0.2669 - val_accuracy: 0.9313 - val_loss: 0.1969\n",
            "Epoch 9/20\n",
            "\u001b[1m168/168\u001b[0m \u001b[32m━━━━━━━━━━━━━━━━━━━━\u001b[0m\u001b[37m\u001b[0m \u001b[1m33s\u001b[0m 197ms/step - accuracy: 0.9198 - loss: 0.2302 - val_accuracy: 0.9335 - val_loss: 0.1980\n",
            "Epoch 10/20\n",
            "\u001b[1m168/168\u001b[0m \u001b[32m━━━━━━━━━━━━━━━━━━━━\u001b[0m\u001b[37m\u001b[0m \u001b[1m32s\u001b[0m 191ms/step - accuracy: 0.9115 - loss: 0.2568 - val_accuracy: 0.9373 - val_loss: 0.1686\n",
            "Epoch 11/20\n",
            "\u001b[1m168/168\u001b[0m \u001b[32m━━━━━━━━━━━━━━━━━━━━\u001b[0m\u001b[37m\u001b[0m \u001b[1m33s\u001b[0m 196ms/step - accuracy: 0.9131 - loss: 0.2510 - val_accuracy: 0.9515 - val_loss: 0.1325\n",
            "Epoch 12/20\n",
            "\u001b[1m168/168\u001b[0m \u001b[32m━━━━━━━━━━━━━━━━━━━━\u001b[0m\u001b[37m\u001b[0m \u001b[1m33s\u001b[0m 198ms/step - accuracy: 0.9350 - loss: 0.1899 - val_accuracy: 0.9447 - val_loss: 0.1475\n",
            "Epoch 13/20\n",
            "\u001b[1m168/168\u001b[0m \u001b[32m━━━━━━━━━━━━━━━━━━━━\u001b[0m\u001b[37m\u001b[0m \u001b[1m32s\u001b[0m 189ms/step - accuracy: 0.9246 - loss: 0.2289 - val_accuracy: 0.9462 - val_loss: 0.1714\n",
            "Epoch 14/20\n",
            "\u001b[1m168/168\u001b[0m \u001b[32m━━━━━━━━━━━━━━━━━━━━\u001b[0m\u001b[37m\u001b[0m \u001b[1m33s\u001b[0m 194ms/step - accuracy: 0.9245 - loss: 0.2097 - val_accuracy: 0.9395 - val_loss: 0.1667\n"
          ]
        }
      ]
    },
    {
      "cell_type": "markdown",
      "source": [
        "**Description:**\n",
        "\n",
        "This trains your CNN for under 15 epochs, as per your early stopping.\n",
        "Training and validation accuracy/loss will appear in the output."
      ],
      "metadata": {
        "id": "16sPimIye2kP"
      }
    },
    {
      "cell_type": "code",
      "source": [
        "# ====================================================\n",
        "# SECTION 7: Plot Accuracy and Loss\n",
        "# ====================================================\n",
        "\n",
        "import matplotlib.pyplot as plt\n",
        "\n",
        "plt.figure(figsize=(12,5))\n",
        "plt.subplot(1,2,1)\n",
        "plt.plot(history.history['accuracy'], label='Train Accuracy')\n",
        "plt.plot(history.history['val_accuracy'], label='Val Accuracy')\n",
        "plt.legend()\n",
        "plt.title(\"Model Accuracy\")\n",
        "\n",
        "plt.subplot(1,2,2)\n",
        "plt.plot(history.history['loss'], label='Train Loss')\n",
        "plt.plot(history.history['val_loss'], label='Val Loss')\n",
        "plt.legend()\n",
        "plt.title(\"Model Loss\")\n",
        "\n",
        "plt.show()\n"
      ],
      "metadata": {
        "colab": {
          "base_uri": "https://localhost:8080/",
          "height": 468
        },
        "id": "yBHYo5Aqe_e7",
        "outputId": "a94e43b1-bd34-4734-bd0e-899eba2630e4"
      },
      "execution_count": 13,
      "outputs": [
        {
          "output_type": "display_data",
          "data": {
            "text/plain": [
              "<Figure size 1200x500 with 2 Axes>"
            ],
            "image/png": "[encoded data removed]"
          },
          "metadata": {}
        }
      ]
    },
    {
      "cell_type": "markdown",
      "source": [
        "**Description:**\n",
        "\n",
        "This still might shows how your model performed over time — helping you spot overfitting or improvement trends."
      ],
      "metadata": {
        "id": "MkTngA1_fCND"
      }
    },
    {
      "cell_type": "code",
      "source": [
        "# ====================================================\n",
        "# SECTION 8: Save Model\n",
        "# ====================================================\n",
        "\n",
        "model.save(\"plant_leaf_classifier_subset.h5\")\n",
        "print(\"✅ Model saved as plant_leaf_classifier_subset.h5\")\n"
      ],
      "metadata": {
        "colab": {
          "base_uri": "https://localhost:8080/"
        },
        "id": "1jvXyHeQfFGB",
        "outputId": "23dc8caf-d182-47e5-8f67-aa29401b8b79"
      },
      "execution_count": 8,
      "outputs": [
        {
          "output_type": "stream",
          "name": "stderr",
          "text": [
            "WARNING:absl:You are saving your model as an HDF5 file via `model.save()` or `keras.saving.save_model(model)`. This file format is considered legacy. We recommend using instead the native Keras format, e.g. `model.save('my_model.keras')` or `keras.saving.save_model(model, 'my_model.keras')`. \n"
          ]
        },
        {
          "output_type": "stream",
          "name": "stdout",
          "text": [
            "✅ Model saved as plant_leaf_classifier_subset.h5\n"
          ]
        }
      ]
    },
    {
      "cell_type": "markdown",
      "source": [
        "**Final Notes:**\n",
        "\n",
        "Upload only your kaggle.json when the code asks — no manual dataset handling required.\n",
        "\n",
        "The dataset will be automatically downloaded, subsetted, and used for CNN training.\n",
        "\n",
        "You can later extend it to include all 38 classes from PlantVillage if needed."
      ],
      "metadata": {
        "id": "jnYyubk3fGTK"
      }
    }
  ]
}